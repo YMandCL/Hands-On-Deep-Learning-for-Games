{
 "cells": [
  {
   "cell_type": "markdown",
   "metadata": {},
   "source": [
    "## Chapter 1: Neural Networks"
   ]
  },
  {
   "cell_type": "markdown",
   "metadata": {},
   "source": [
    "<b>Perceptron takes a set of inputs, sums them all up, passes them thruogh an activation function.\n",
    "\n",
    "Activation function determiens whether to send output and at what level to send it when activated,"
   ]
  },
  {
   "attachments": {
    "Perceptron.PNG": {
     "image/png": "[encoded data removed]"
    }
   },
   "cell_type": "markdown",
   "metadata": {},
   "source": [
    "![Perceptron.PNG](attachment:Perceptron.PNG)"
   ]
  },
  {
   "cell_type": "code",
   "execution_count": 1,
   "metadata": {},
   "outputs": [
    {
     "name": "stdout",
     "output_type": "stream",
     "text": [
      "1.0\n"
     ]
    }
   ],
   "source": [
    "inputs = [1,2]\n",
    "weights = [1,1,1]\n",
    "\n",
    "def perceptron_predict(inputs, weights):\n",
    "    activation = weights[0]    \n",
    "    for i in range(len(inputs)-1):\n",
    "      activation += weights[i+1] * inputs[i]\n",
    "      return 1.0 if activation >= 0.0 else 0.0\n",
    "\n",
    "print(perceptron_predict(inputs,weights))"
   ]
  },
  {
   "cell_type": "code",
   "execution_count": 2,
   "metadata": {},
   "outputs": [
    {
     "name": "stdout",
     "output_type": "stream",
     "text": [
      "1.0\n",
      "1.0\n",
      "1.0\n",
      "1.0\n",
      "1.0\n",
      "1.0\n",
      "1.0\n",
      "1.0\n",
      "1.0\n",
      "1.0\n"
     ]
    }
   ],
   "source": [
    "train = [[1,2],[2,3],[1,1],[2,2],[3,3],[4,2],[2,5],[5,5],[4,1],[4,4]]\n",
    "weights = [1,1,1]\n",
    "\n",
    "def perceptron_predict(inputs, weights):\n",
    "    activation = weights[0]    \n",
    "    for i in range(len(inputs)-1):\n",
    "      activation += weights[i+1] * inputs[i]\n",
    "      return 1.0 if activation >= 0.0 else 0.0\n",
    "\n",
    "for inputs in train:\n",
    "  print(perceptron_predict(inputs,weights))"
   ]
  },
  {
   "cell_type": "markdown",
   "metadata": {},
   "source": [
    "<b> Using Gradient Descent to adjust weights"
   ]
  },
  {
   "cell_type": "code",
   "execution_count": 6,
   "metadata": {},
   "outputs": [
    {
     "name": "stdout",
     "output_type": "stream",
     "text": [
      ">epoch=0, learning_rate=0.100, error=5.000\n",
      ">epoch=1, learning_rate=0.100, error=6.000\n",
      ">epoch=2, learning_rate=0.100, error=4.000\n",
      ">epoch=3, learning_rate=0.100, error=7.000\n",
      ">epoch=4, learning_rate=0.100, error=6.000\n",
      ">epoch=5, learning_rate=0.100, error=6.000\n",
      ">epoch=6, learning_rate=0.100, error=4.000\n",
      ">epoch=7, learning_rate=0.100, error=5.000\n",
      ">epoch=8, learning_rate=0.100, error=6.000\n",
      ">epoch=9, learning_rate=0.100, error=6.000\n",
      "[-0.8999999999999999, -0.3900000000000005, 0.6899999999999998]\n"
     ]
    }
   ],
   "source": [
    "def perceptron_predict(inputs, weights):\n",
    "    activation = weights [0]\n",
    "    for i in range(len(inputs)-1):\n",
    "        activation += weights [i + 1] * inputs [i]\n",
    "    return 1.0 if activation >= 0.0 else 0.0\n",
    "    \n",
    "def train_weights(train, learning_rate, epochs):\n",
    " weights = [0.0 for i in range(len(train[0]))]\n",
    " for epoch in range(epochs):\n",
    "  sum_error = 0.0\n",
    "  for inputs in train:\n",
    "   prediction = perceptron_predict(inputs, weights)\n",
    "   error = inputs[-1] - prediction\n",
    "   sum_error += error**2\n",
    "   weights[0] = weights[0] + learning_rate * error\n",
    "   for i in range(len(inputs)-1):\n",
    "    weights[i + 1] = weights[i + 1] + learning_rate * error * inputs[i]\n",
    "  print('>epoch=%d, learning_rate=%.3f, error=%.3f' % (epoch, learning_rate, sum_error))\n",
    " return weights\n",
    "\n",
    "train = [[1.5,2.5,0],[2.5,3.5,0],[1.0,11.0,1],[2.3,2.3,1],[3.6,3.6,1],[4.2,2.4,0],[2.4,5.4,0],[5.1,5.1,1],[4.3,1.3,0],[4.8,4.8,1]]\n",
    "\n",
    "learning_rate = 0.1\n",
    "#Epoch is a passthrough training data\n",
    "#Helps to converage at global minimum rather than local\n",
    "epochs = 10\n",
    "weights = train_weights(train, learning_rate, epochs)\n",
    "print(weights)"
   ]
  },
  {
   "cell_type": "markdown",
   "metadata": {},
   "source": [
    "<b>Multi-layer Perceptron in Tensorflow"
   ]
  },
  {
   "cell_type": "code",
   "execution_count": 7,
   "metadata": {},
   "outputs": [
    {
     "name": "stderr",
     "output_type": "stream",
     "text": [
      "C:\\Users\\Watson Turbo\\Anaconda3\\lib\\site-packages\\tensorflow\\python\\framework\\dtypes.py:526: FutureWarning: Passing (type, 1) or '1type' as a synonym of type is deprecated; in a future version of numpy, it will be understood as (type, (1,)) / '(1,)type'.\n",
      "  _np_qint8 = np.dtype([(\"qint8\", np.int8, 1)])\n",
      "C:\\Users\\Watson Turbo\\Anaconda3\\lib\\site-packages\\tensorflow\\python\\framework\\dtypes.py:527: FutureWarning: Passing (type, 1) or '1type' as a synonym of type is deprecated; in a future version of numpy, it will be understood as (type, (1,)) / '(1,)type'.\n",
      "  _np_quint8 = np.dtype([(\"quint8\", np.uint8, 1)])\n",
      "C:\\Users\\Watson Turbo\\Anaconda3\\lib\\site-packages\\tensorflow\\python\\framework\\dtypes.py:528: FutureWarning: Passing (type, 1) or '1type' as a synonym of type is deprecated; in a future version of numpy, it will be understood as (type, (1,)) / '(1,)type'.\n",
      "  _np_qint16 = np.dtype([(\"qint16\", np.int16, 1)])\n",
      "C:\\Users\\Watson Turbo\\Anaconda3\\lib\\site-packages\\tensorflow\\python\\framework\\dtypes.py:529: FutureWarning: Passing (type, 1) or '1type' as a synonym of type is deprecated; in a future version of numpy, it will be understood as (type, (1,)) / '(1,)type'.\n",
      "  _np_quint16 = np.dtype([(\"quint16\", np.uint16, 1)])\n",
      "C:\\Users\\Watson Turbo\\Anaconda3\\lib\\site-packages\\tensorflow\\python\\framework\\dtypes.py:530: FutureWarning: Passing (type, 1) or '1type' as a synonym of type is deprecated; in a future version of numpy, it will be understood as (type, (1,)) / '(1,)type'.\n",
      "  _np_qint32 = np.dtype([(\"qint32\", np.int32, 1)])\n",
      "C:\\Users\\Watson Turbo\\Anaconda3\\lib\\site-packages\\tensorflow\\python\\framework\\dtypes.py:535: FutureWarning: Passing (type, 1) or '1type' as a synonym of type is deprecated; in a future version of numpy, it will be understood as (type, (1,)) / '(1,)type'.\n",
      "  np_resource = np.dtype([(\"resource\", np.ubyte, 1)])\n"
     ]
    },
    {
     "name": "stdout",
     "output_type": "stream",
     "text": [
      "WARNING:tensorflow:From <ipython-input-7-d1a744a56d00>:2: read_data_sets (from tensorflow.contrib.learn.python.learn.datasets.mnist) is deprecated and will be removed in a future version.\n",
      "Instructions for updating:\n",
      "Please use alternatives such as official/mnist/dataset.py from tensorflow/models.\n",
      "WARNING:tensorflow:From C:\\Users\\Watson Turbo\\Anaconda3\\lib\\site-packages\\tensorflow\\contrib\\learn\\python\\learn\\datasets\\mnist.py:260: maybe_download (from tensorflow.contrib.learn.python.learn.datasets.base) is deprecated and will be removed in a future version.\n",
      "Instructions for updating:\n",
      "Please write your own downloading logic.\n",
      "WARNING:tensorflow:From C:\\Users\\Watson Turbo\\Anaconda3\\lib\\site-packages\\tensorflow\\contrib\\learn\\python\\learn\\datasets\\base.py:252: _internal_retry.<locals>.wrap.<locals>.wrapped_fn (from tensorflow.contrib.learn.python.learn.datasets.base) is deprecated and will be removed in a future version.\n",
      "Instructions for updating:\n",
      "Please use urllib or similar directly.\n",
      "Successfully downloaded train-images-idx3-ubyte.gz 9912422 bytes.\n",
      "WARNING:tensorflow:From C:\\Users\\Watson Turbo\\Anaconda3\\lib\\site-packages\\tensorflow\\contrib\\learn\\python\\learn\\datasets\\mnist.py:262: extract_images (from tensorflow.contrib.learn.python.learn.datasets.mnist) is deprecated and will be removed in a future version.\n",
      "Instructions for updating:\n",
      "Please use tf.data to implement this functionality.\n",
      "Extracting /tmp/data/train-images-idx3-ubyte.gz\n",
      "Successfully downloaded train-labels-idx1-ubyte.gz 28881 bytes.\n",
      "WARNING:tensorflow:From C:\\Users\\Watson Turbo\\Anaconda3\\lib\\site-packages\\tensorflow\\contrib\\learn\\python\\learn\\datasets\\mnist.py:267: extract_labels (from tensorflow.contrib.learn.python.learn.datasets.mnist) is deprecated and will be removed in a future version.\n",
      "Instructions for updating:\n",
      "Please use tf.data to implement this functionality.\n",
      "Extracting /tmp/data/train-labels-idx1-ubyte.gz\n",
      "WARNING:tensorflow:From C:\\Users\\Watson Turbo\\Anaconda3\\lib\\site-packages\\tensorflow\\contrib\\learn\\python\\learn\\datasets\\mnist.py:110: dense_to_one_hot (from tensorflow.contrib.learn.python.learn.datasets.mnist) is deprecated and will be removed in a future version.\n",
      "Instructions for updating:\n",
      "Please use tf.one_hot on tensors.\n",
      "Successfully downloaded t10k-images-idx3-ubyte.gz 1648877 bytes.\n",
      "Extracting /tmp/data/t10k-images-idx3-ubyte.gz\n",
      "Successfully downloaded t10k-labels-idx1-ubyte.gz 4542 bytes.\n",
      "Extracting /tmp/data/t10k-labels-idx1-ubyte.gz\n",
      "WARNING:tensorflow:From C:\\Users\\Watson Turbo\\Anaconda3\\lib\\site-packages\\tensorflow\\contrib\\learn\\python\\learn\\datasets\\mnist.py:290: DataSet.__init__ (from tensorflow.contrib.learn.python.learn.datasets.mnist) is deprecated and will be removed in a future version.\n",
      "Instructions for updating:\n",
      "Please use alternatives such as official/mnist/dataset.py from tensorflow/models.\n",
      "WARNING:tensorflow:From C:\\Users\\Watson Turbo\\Anaconda3\\lib\\site-packages\\tensorflow\\python\\framework\\op_def_library.py:263: colocate_with (from tensorflow.python.framework.ops) is deprecated and will be removed in a future version.\n",
      "Instructions for updating:\n",
      "Colocations handled automatically by placer.\n",
      "WARNING:tensorflow:From <ipython-input-7-d1a744a56d00>:50: softmax_cross_entropy_with_logits (from tensorflow.python.ops.nn_ops) is deprecated and will be removed in a future version.\n",
      "Instructions for updating:\n",
      "\n",
      "Future major versions of TensorFlow will allow gradients to flow\n",
      "into the labels input on backprop by default.\n",
      "\n",
      "See `tf.nn.softmax_cross_entropy_with_logits_v2`.\n",
      "\n",
      "Epoch: 0001 cost=320.073557920\n",
      "Epoch: 0002 cost=98.972644071\n",
      "Epoch: 0003 cost=71.784978603\n",
      "Epoch: 0004 cost=58.191640257\n",
      "Epoch: 0005 cost=48.801474092\n",
      "Epoch: 0006 cost=42.516063854\n",
      "Epoch: 0007 cost=37.764556949\n",
      "Epoch: 0008 cost=34.004693915\n",
      "Epoch: 0009 cost=31.713489969\n",
      "Epoch: 0010 cost=30.209237460\n",
      "Epoch: 0011 cost=27.789258892\n",
      "Epoch: 0012 cost=25.497168400\n",
      "Epoch: 0013 cost=24.205431109\n",
      "Epoch: 0014 cost=22.551578111\n",
      "Epoch: 0015 cost=21.565545178\n",
      "Optimization Finished!\n",
      "Accuracy: 0.8875\n"
     ]
    }
   ],
   "source": [
    "from tensorflow.examples.tutorials.mnist import input_data\n",
    "mnist = input_data.read_data_sets(\"/tmp/data/\", one_hot=True)\n",
    "\n",
    "import tensorflow as tf\n",
    "\n",
    "# Parameters\n",
    "learning_rate = 0.001\n",
    "training_epochs = 15\n",
    "batch_size = 100\n",
    "display_step = 1\n",
    "\n",
    "# Network Parameters\n",
    "n_hidden_1 = 256 # 1st layer number of neurons\n",
    "n_hidden_2 = 256 # 2nd layer number of neurons\n",
    "n_input = 784 # MNIST data input (img shape: 28*28)\n",
    "n_classes = 10 # MNIST total classes (0-9 digits)\n",
    "\n",
    "# tf Graph input\n",
    "X = tf.placeholder(\"float\", [None, n_input])\n",
    "Y = tf.placeholder(\"float\", [None, n_classes])\n",
    "\n",
    "# Store layers weight & bias\n",
    "weights = {\n",
    "    'h1': tf.Variable(tf.random_normal([n_input, n_hidden_1])),\n",
    "    'h2': tf.Variable(tf.random_normal([n_hidden_1, n_hidden_2])),\n",
    "    'out': tf.Variable(tf.random_normal([n_hidden_2, n_classes]))\n",
    "}\n",
    "\n",
    "biases = {\n",
    "    'b1': tf.Variable(tf.random_normal([n_hidden_1])),\n",
    "    'b2': tf.Variable(tf.random_normal([n_hidden_2])),\n",
    "    'out': tf.Variable(tf.random_normal([n_classes]))\n",
    "}\n",
    "\n",
    "# Create model\n",
    "def multilayer_perceptron(x):\n",
    "    # Hidden fully connected layer with 256 neurons\n",
    "    layer_1 = tf.add(tf.matmul(x, weights['h1']), biases['b1'])\n",
    "    # Hidden fully connected layer with 256 neurons\n",
    "    layer_2 = tf.add(tf.matmul(layer_1, weights['h2']), biases['b2'])\n",
    "    # Output fully connected layer with a neuron for each class\n",
    "    out_layer = tf.matmul(layer_2, weights['out']) + biases['out']\n",
    "    return out_layer\n",
    "\n",
    "\n",
    "# Construct model\n",
    "logits = multilayer_perceptron(X)\n",
    "\n",
    "# Define loss and optimizer\n",
    "loss_op = tf.reduce_mean(tf.nn.softmax_cross_entropy_with_logits(logits=logits, labels=Y))\n",
    "optimizer = tf.train.AdamOptimizer(learning_rate=learning_rate)\n",
    "train_op = optimizer.minimize(loss_op)\n",
    "\n",
    "# Initializing the variables\n",
    "init = tf.global_variables_initializer()\n",
    "\n",
    "with tf.Session() as sess:\n",
    "    sess.run(init)\n",
    "    # Training cycle\n",
    "    for epoch in range(training_epochs):\n",
    "        avg_cost = 0.\n",
    "        total_batch = int(mnist.train.num_examples/batch_size)\n",
    "        # Loop over all batches\n",
    "        for i in range(total_batch):\n",
    "            batch_x, batch_y = mnist.train.next_batch(batch_size)\n",
    "            # Run optimization op (backprop) and cost op (to get loss value)\n",
    "            c, _ = sess.run([loss_op, train_op], feed_dict={X: batch_x,Y: batch_y})\n",
    "\n",
    "            # Compute average loss\n",
    "            avg_cost += c / total_batch\n",
    "\n",
    "        # Display logs per epoch step\n",
    "        if epoch % display_step == 0:\n",
    "            print(\"Epoch:\", '%04d' % (epoch+1), \"cost={:.9f}\".format(avg_cost))\n",
    "    print(\"Optimization Finished!\")\n",
    "\n",
    "    # Test model\n",
    "    pred = tf.nn.softmax(logits)  # Apply softmax to logits\n",
    "    correct_prediction = tf.equal(tf.argmax(pred, 1), tf.argmax(Y, 1))\n",
    "\n",
    "    # Calculate accuracy\n",
    "    accuracy = tf.reduce_mean(tf.cast(correct_prediction, \"float\"))\n",
    "    print(\"Accuracy:\", accuracy.eval({X: mnist.test.images, Y: mnist.test.labels}))"
   ]
  },
  {
   "cell_type": "markdown",
   "metadata": {},
   "source": [
    "<b> Training Neural Networks with Backpropagation"
   ]
  },
  {
   "cell_type": "markdown",
   "metadata": {},
   "source": [
    "-Sum up all of the errors across the output layer\n",
    "\n",
    "-backpropagate the error back through the network\n",
    "\n",
    "-update each weight based on contribution to total error"
   ]
  },
  {
   "cell_type": "markdown",
   "metadata": {},
   "source": [
    "<b>Cost Function-describes the average sum of errors for a batch in the entire network\n",
    "\n",
    "        <i>C(w1, w2,...,wn) = C(w)"
   ]
  },
  {
   "cell_type": "markdown",
   "metadata": {},
   "source": [
    "## Building an Autoencoder with Keras"
   ]
  },
  {
   "cell_type": "code",
   "execution_count": 10,
   "metadata": {},
   "outputs": [
    {
     "name": "stdout",
     "output_type": "stream",
     "text": [
      "(60000, 784)\n",
      "(10000, 784)\n",
      "Train on 60000 samples, validate on 10000 samples\n",
      "Epoch 1/15\n",
      "60000/60000 [==============================] - 3s 45us/sample - loss: 0.3527 - val_loss: 0.2683\n",
      "Epoch 2/15\n",
      "60000/60000 [==============================] - 2s 34us/sample - loss: 0.2580 - val_loss: 0.2438\n",
      "Epoch 3/15\n",
      "60000/60000 [==============================] - 2s 35us/sample - loss: 0.2324 - val_loss: 0.2195\n",
      "Epoch 4/15\n",
      "60000/60000 [==============================] - 2s 36us/sample - loss: 0.2117 - val_loss: 0.2020\n",
      "Epoch 5/15\n",
      "60000/60000 [==============================] - 2s 35us/sample - loss: 0.1968 - val_loss: 0.1893\n",
      "Epoch 6/15\n",
      "60000/60000 [==============================] - 2s 35us/sample - loss: 0.1857 - val_loss: 0.1796\n",
      "Epoch 7/15\n",
      "60000/60000 [==============================] - 2s 35us/sample - loss: 0.1769 - val_loss: 0.1717\n",
      "Epoch 8/15\n",
      "60000/60000 [==============================] - 2s 34us/sample - loss: 0.1696 - val_loss: 0.1650\n",
      "Epoch 9/15\n",
      "60000/60000 [==============================] - 2s 35us/sample - loss: 0.1633 - val_loss: 0.1591\n",
      "Epoch 10/15\n",
      "60000/60000 [==============================] - 2s 34us/sample - loss: 0.1578 - val_loss: 0.1540\n",
      "Epoch 11/15\n",
      "60000/60000 [==============================] - 2s 34us/sample - loss: 0.1530 - val_loss: 0.1494\n",
      "Epoch 12/15\n",
      "60000/60000 [==============================] - 2s 35us/sample - loss: 0.1486 - val_loss: 0.1452\n",
      "Epoch 13/15\n",
      "60000/60000 [==============================] - 2s 34us/sample - loss: 0.1447 - val_loss: 0.1414\n",
      "Epoch 14/15\n",
      "60000/60000 [==============================] - 2s 34us/sample - loss: 0.1411 - val_loss: 0.1381\n",
      "Epoch 15/15\n",
      "60000/60000 [==============================] - 2s 33us/sample - loss: 0.1378 - val_loss: 0.1349\n"
     ]
    }
   ],
   "source": [
    "import tensorflow as tf\n",
    "from tensorflow.keras.layers import Input, Dense\n",
    "from tensorflow.keras.models import Model\n",
    "\n",
    "# this is the size of our encoded representations\n",
    "encoding_dim = 64  # 32 floats -> compression of factor 24.5, assuming the input is 784 floats\n",
    "\n",
    "# this is our input placeholder\n",
    "input_img = Input(shape=(784,))\n",
    "# \"encoded\" is the encoded representation of the input\n",
    "encoded = Dense(encoding_dim, activation='relu')(input_img)\n",
    "# this model maps an input to its encoded representation\n",
    "encoder = Model(input_img, encoded)\n",
    "\n",
    "\n",
    "# \"decoded\" is the lossy reconstruction of the input\n",
    "decoded = Dense(784, activation='sigmoid')(encoded)\n",
    "\n",
    "# this model maps an input to its reconstruction\n",
    "autoencoder = Model(input_img, decoded)\n",
    "\n",
    "# create a placeholder for an encoded (32-dimensional) input\n",
    "encoded_input = Input(shape=(encoding_dim,))\n",
    "# retrieve the last layer of the autoencoder model\n",
    "decoder_layer = autoencoder.layers[-1]\n",
    "# create the decoder model\n",
    "decoder = Model(encoded_input, decoder_layer(encoded_input))\n",
    "\n",
    "autoencoder.compile(optimizer='adadelta', loss='binary_crossentropy')\n",
    "\n",
    "from tensorflow.keras.datasets import mnist\n",
    "import numpy as np\n",
    "(x_train, _), (x_test, _) = mnist.load_data()\n",
    "\n",
    "x_train = x_train.astype('float32') / 255.\n",
    "x_test = x_test.astype('float32') / 255.\n",
    "x_train = x_train.reshape((len(x_train), np.prod(x_train.shape[1:])))\n",
    "x_test = x_test.reshape((len(x_test), np.prod(x_test.shape[1:])))\n",
    "print( x_train.shape)\n",
    "print( x_test.shape)\n",
    "\n",
    "autoencoder.fit(x_train, x_train,\n",
    "                epochs=15,\n",
    "                batch_size=256,\n",
    "                shuffle=True,\n",
    "                validation_data=(x_test, x_test))\n",
    "\n",
    "# encode and decode some digits\n",
    "# note that we take them from the *test* set\n",
    "encoded_imgs = encoder.predict(x_test)\n",
    "decoded_imgs = decoder.predict(encoded_imgs)"
   ]
  },
  {
   "cell_type": "code",
   "execution_count": 11,
   "metadata": {},
   "outputs": [
    {
     "data": {
      "image/png": "[encoded data removed]",
      "text/plain": [
       "<Figure size 1440x288 with 20 Axes>"
      ]
     },
     "metadata": {
      "needs_background": "light"
     },
     "output_type": "display_data"
    }
   ],
   "source": [
    "# use Matplotlib (don't ask)\n",
    "import matplotlib.pyplot as plt\n",
    "\n",
    "n = 10  # how many digits we will display\n",
    "plt.figure(figsize=(20, 4))\n",
    "for i in range(n):\n",
    "    # display original\n",
    "    ax = plt.subplot(2, n, i + 1)\n",
    "    plt.imshow(x_test[i].reshape(28, 28))\n",
    "    plt.gray()\n",
    "    ax.get_xaxis().set_visible(False)\n",
    "    ax.get_yaxis().set_visible(False)\n",
    "\n",
    "    # display reconstruction\n",
    "    ax = plt.subplot(2, n, i + 1 + n)\n",
    "    plt.imshow(decoded_imgs[i].reshape(28, 28))\n",
    "    plt.gray()\n",
    "    ax.get_xaxis().set_visible(False)\n",
    "    ax.get_yaxis().set_visible(False)\n",
    "plt.show()"
   ]
  },
  {
   "cell_type": "code",
   "execution_count": 13,
   "metadata": {},
   "outputs": [
    {
     "name": "stderr",
     "output_type": "stream",
     "text": [
      "Using TensorFlow backend.\n"
     ]
    },
    {
     "name": "stdout",
     "output_type": "stream",
     "text": [
      "(60000, 784)\n",
      "(10000, 784)\n",
      "Train on 60000 samples, validate on 10000 samples\n",
      "Epoch 1/15\n",
      "60000/60000 [==============================] - 3s 44us/step - loss: 0.3506 - val_loss: 0.2681\n",
      "Epoch 2/15\n",
      "60000/60000 [==============================] - 2s 33us/step - loss: 0.2583 - val_loss: 0.2443\n",
      "Epoch 3/15\n",
      "60000/60000 [==============================] - 2s 34us/step - loss: 0.2317 - val_loss: 0.2178\n",
      "Epoch 4/15\n",
      "60000/60000 [==============================] - 2s 33us/step - loss: 0.2102 - val_loss: 0.2004\n",
      "Epoch 5/15\n",
      "60000/60000 [==============================] - 2s 33us/step - loss: 0.1956 - val_loss: 0.1882\n",
      "Epoch 6/15\n",
      "60000/60000 [==============================] - 2s 33us/step - loss: 0.1851 - val_loss: 0.1791\n",
      "Epoch 7/15\n",
      "60000/60000 [==============================] - 2s 33us/step - loss: 0.1770 - val_loss: 0.1719\n",
      "Epoch 8/15\n",
      "60000/60000 [==============================] - 2s 33us/step - loss: 0.1701 - val_loss: 0.1654\n",
      "Epoch 9/15\n",
      "60000/60000 [==============================] - 2s 34us/step - loss: 0.1640 - val_loss: 0.1597\n",
      "Epoch 10/15\n",
      "60000/60000 [==============================] - 2s 35us/step - loss: 0.1584 - val_loss: 0.1543\n",
      "Epoch 11/15\n",
      "60000/60000 [==============================] - 2s 35us/step - loss: 0.1534 - val_loss: 0.1497\n",
      "Epoch 12/15\n",
      "60000/60000 [==============================] - 2s 34us/step - loss: 0.1489 - val_loss: 0.1453\n",
      "Epoch 13/15\n",
      "60000/60000 [==============================] - 2s 34us/step - loss: 0.1448 - val_loss: 0.1414\n",
      "Epoch 14/15\n",
      "60000/60000 [==============================] - 2s 34us/step - loss: 0.1411 - val_loss: 0.1378\n",
      "Epoch 15/15\n",
      "60000/60000 [==============================] - 2s 33us/step - loss: 0.1376 - val_loss: 0.1344\n"
     ]
    },
    {
     "data": {
      "image/png": "[encoded data removed]",
      "text/plain": [
       "<Figure size 1440x288 with 20 Axes>"
      ]
     },
     "metadata": {
      "needs_background": "light"
     },
     "output_type": "display_data"
    }
   ],
   "source": [
    "from keras.layers import Input, Dense\n",
    "from keras.models import Model\n",
    "\n",
    "# this is the size of our encoded representations\n",
    "encoding_dim = 64  # 32 floats -> compression of factor 24.5, assuming the input is 784 floats\n",
    "\n",
    "# this is our input placeholder\n",
    "input_img = Input(shape=(784,))\n",
    "# \"encoded\" is the encoded representation of the input\n",
    "encoded = Dense(encoding_dim, activation='relu')(input_img)\n",
    "# this model maps an input to its encoded representation\n",
    "encoder = Model(input_img, encoded)\n",
    "\n",
    "\n",
    "# \"decoded\" is the lossy reconstruction of the input\n",
    "decoded = Dense(784, activation='sigmoid')(encoded)\n",
    "\n",
    "# this model maps an input to its reconstruction\n",
    "autoencoder = Model(input_img, decoded)\n",
    "\n",
    "# create a placeholder for an encoded (32-dimensional) input\n",
    "encoded_input = Input(shape=(encoding_dim,))\n",
    "# retrieve the last layer of the autoencoder model\n",
    "decoder_layer = autoencoder.layers[-1]\n",
    "# create the decoder model\n",
    "decoder = Model(encoded_input, decoder_layer(encoded_input))\n",
    "\n",
    "autoencoder.compile(optimizer='adadelta', loss='binary_crossentropy')\n",
    "\n",
    "from keras.datasets import mnist\n",
    "import numpy as np\n",
    "(x_train, _), (x_test, _) = mnist.load_data()\n",
    "\n",
    "x_train = x_train.astype('float32') / 255.\n",
    "x_test = x_test.astype('float32') / 255.\n",
    "x_train = x_train.reshape((len(x_train), np.prod(x_train.shape[1:])))\n",
    "x_test = x_test.reshape((len(x_test), np.prod(x_test.shape[1:])))\n",
    "print( x_train.shape)\n",
    "print( x_test.shape)\n",
    "\n",
    "autoencoder.fit(x_train, x_train,\n",
    "                epochs=15,\n",
    "                batch_size=256,\n",
    "                shuffle=True,\n",
    "                validation_data=(x_test, x_test))\n",
    "\n",
    "# encode and decode some digits\n",
    "# note that we take them from the *test* set\n",
    "encoded_imgs = encoder.predict(x_test)\n",
    "decoded_imgs = decoder.predict(encoded_imgs)\n",
    "\n",
    "# use Matplotlib (don't ask)\n",
    "import matplotlib.pyplot as plt\n",
    "\n",
    "n = 10  # how many digits we will display\n",
    "plt.figure(figsize=(20, 4))\n",
    "for i in range(n):\n",
    "    # display original\n",
    "    ax = plt.subplot(2, n, i + 1)\n",
    "    plt.imshow(x_test[i].reshape(28, 28))\n",
    "    plt.gray()\n",
    "    ax.get_xaxis().set_visible(False)\n",
    "    ax.get_yaxis().set_visible(False)\n",
    "\n",
    "    # display reconstruction\n",
    "    ax = plt.subplot(2, n, i + 1 + n)\n",
    "    plt.imshow(decoded_imgs[i].reshape(28, 28))\n",
    "    plt.gray()\n",
    "    ax.get_xaxis().set_visible(False)\n",
    "    ax.get_yaxis().set_visible(False)\n",
    "plt.show()"
   ]
  },
  {
   "cell_type": "code",
   "execution_count": 14,
   "metadata": {},
   "outputs": [
    {
     "name": "stdout",
     "output_type": "stream",
     "text": [
      ">epoch=0, lrate=0.100, error=5.000\n",
      ">epoch=1, lrate=0.100, error=6.000\n",
      ">epoch=2, lrate=0.100, error=4.000\n",
      ">epoch=3, lrate=0.100, error=7.000\n",
      ">epoch=4, lrate=0.100, error=6.000\n",
      ">epoch=5, lrate=0.100, error=6.000\n",
      ">epoch=6, lrate=0.100, error=4.000\n",
      ">epoch=7, lrate=0.100, error=5.000\n",
      ">epoch=8, lrate=0.100, error=6.000\n",
      ">epoch=9, lrate=0.100, error=6.000\n",
      "[-0.8999999999999999, -0.3900000000000005, 0.6899999999999998]\n"
     ]
    }
   ],
   "source": [
    "# Make a prediction with weights\n",
    "def perceptron_predict(inputs, weights):\n",
    "\tactivation = weights[0]\n",
    "\tfor i in range(len(inputs)-1):\n",
    "\t\tactivation += weights[i + 1] * inputs[i]\n",
    "\treturn 1.0 if activation  >= 0.0 else 0.0\n",
    "\n",
    "# Estimate Perceptron weights using stochastic gradient descent\n",
    "def train_weights(train, learning_rate, n_epoch):\n",
    "\tweights = [0.0 for i in range(len(train[0]))]\n",
    "\tfor epoch in range(n_epoch):\n",
    "\t\tsum_error = 0.0\n",
    "\t\tfor inputs in train:\n",
    "\t\t\tprediction = perceptron_predict(inputs, weights)\n",
    "\t\t\terror = inputs[-1] - prediction\n",
    "\t\t\tsum_error += error**2\n",
    "\t\t\tweights[0] = weights[0] + learning_rate * error\n",
    "\t\t\tfor i in range(len(inputs)-1):\n",
    "\t\t\t\tweights[i + 1] = weights[i + 1] + learning_rate * error * inputs[i]\n",
    "\t\tprint('>epoch=%d, lrate=%.3f, error=%.3f' % (epoch, learning_rate, sum_error))\n",
    "\treturn weights\n",
    "\n",
    "train = [[1.5,2.5,0],[2.5,3.5,0],[1.0,11.0,1],[2.3,2.3,1],[3.6,3.6,1],[4.2,2.4,0],[2.4,5.4,0],[5.1,5.1,1],[4.3,1.3,0],[4.8,4.8,1]]\n",
    "\n",
    "learning_rate = 0.1\n",
    "epochs = 10\n",
    "weights = train_weights(train, learning_rate, epochs)\n",
    "print(weights)"
   ]
  },
  {
   "cell_type": "markdown",
   "metadata": {},
   "source": [
    "## Exercises"
   ]
  },
  {
   "cell_type": "markdown",
   "metadata": {},
   "source": [
    "1. Name three different activation functions. Remember, Google is your friend.\n",
    "<b>Sigmoid-predicting probability of an output between 0 and 1. \"S Shaped\" curve\n",
    "    \n",
    "Softmax-logistic activation function used for multiclass classification\n",
    "    \n",
    "Tanh-hyperbolic tanget function, range from -1 to 1. \n",
    "\n",
    "Sigmoidal shaped curve. Zero inputs mapped near zero and strong negative inputs mapped near -1.\n",
    "\n",
    "ReLU-Rectified Linear Unit. Used in convolutional neural net and deep learning. Range 0 to infinity. Does not map negative values appropriatly. \n",
    "Thus LEAKY ReLU."
   ]
  },
  {
   "cell_type": "markdown",
   "metadata": {},
   "source": [
    "2. What is the purpose of a bias?\n",
    "<b>"
   ]
  },
  {
   "cell_type": "markdown",
   "metadata": {},
   "source": [
    "3. What would you expect to happen if you reduced the number of epochs in one of the chapter samples? Did you try it?\n",
    "<b>"
   ]
  },
  {
   "cell_type": "markdown",
   "metadata": {},
   "source": [
    "4. What is the purpose of backpropagation?\n",
    "<b>"
   ]
  },
  {
   "cell_type": "markdown",
   "metadata": {},
   "source": [
    "5. Explain the purpose of the Cost function.\n",
    "<b>"
   ]
  },
  {
   "cell_type": "markdown",
   "metadata": {},
   "source": [
    "6. What happens when you increase or decrease the number of encoding dimensions in the Keras autoencoder example?\n",
    "<b>"
   ]
  },
  {
   "cell_type": "markdown",
   "metadata": {},
   "source": [
    "7. What is the name of the layer type that we feed input into?\n",
    "<b>"
   ]
  },
  {
   "cell_type": "markdown",
   "metadata": {},
   "source": [
    "8. What happens when you increase or decrease the batch size?\n",
    "<b>"
   ]
  },
  {
   "cell_type": "markdown",
   "metadata": {},
   "source": [
    "9. What is the shape of the input Tensor for the Keras example? Hint: we already have a print statement displaying this.\n",
    "<b>"
   ]
  },
  {
   "cell_type": "markdown",
   "metadata": {},
   "source": [
    "10. In the last exercise, how many MNIST samples do we train and test with?\n",
    "<b>"
   ]
  }
 ],
 "metadata": {
  "kernelspec": {
   "display_name": "Python 3",
   "language": "python",
   "name": "python3"
  },
  "language_info": {
   "codemirror_mode": {
    "name": "ipython",
    "version": 3
   },
   "file_extension": ".py",
   "mimetype": "text/x-python",
   "name": "python",
   "nbconvert_exporter": "python",
   "pygments_lexer": "ipython3",
   "version": "3.7.1"
  }
 },
 "nbformat": 4,
 "nbformat_minor": 2
}
